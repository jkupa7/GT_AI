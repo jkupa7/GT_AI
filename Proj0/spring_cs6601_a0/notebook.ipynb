{
 "cells": [
  {
   "cell_type": "markdown",
   "metadata": {},
   "source": [
    "# Spring 2025 - CS6601 - Assignment 0\n",
    "\n",
    "## Instructor: Dr. Thad Starner\n",
    "\n",
    "## Deadline: <font color = 'red'>Sunday, Jan 12th, 3:59 pm EST</font>\n",
    "\n",
    "#### Released: Monday, Jan 6th, 7:59 am EST\n",
    "\n",
    "\n",
    "- Discussion is encouraged on Ed as part of the Q/A. However, all assignments should be done individually.\n",
    "\n",
    "\n",
    "- Our assignments are designed to equip every single student with the foundational skills to pursue the field of AI. To achieve this goal, each individual student must complete their own work. All of your submissions must be created by you. You are not allowed to share your solutions, copy and paste, paraphrase, or submit materials created or published by others - including LLMs - as if you created them.\n",
    "\n",
    "\n",
    "- Plagiarism is treated as a serious offense and a violation of the [Georgia Tech Honor Code] (https://policylibrary.gatech.edu/student-life/academic-honor-code). All incidents of suspected dishonesty, plagiarism, or violations of the Georgia Tech Honor Code will be subject to the institute’s Academic Integrity procedures. If we observe any (even small) similarities/plagiarisms detected by Gradescope or our TAs, **WE WILL DIRECTLY REPORT ALL CASES TO OSI**, which are subject to the institute's sanctions **Consequences can be severe, e.g., academic probation or dismissal, grade penalties, a 0 grade for assignments concerned, and prohibition from withdrawing from the class.** [Academic Misconduct Sanctioning Guidelines](https://osi.gatech.edu/process/academic-misconduct-sanctioning-guidelines)."
   ]
  },
  {
   "cell_type": "markdown",
   "metadata": {},
   "source": [
    "## Assignment Instructions\n",
    "\n",
    "### Assignment Description\n",
    "\n",
    "The goals of this assignment are as follows:\n",
    "\n",
    "1. Help to ensure students have **properly installed and setup your Python environment for this course**.\n",
    "2. Help students familiarize themselves with **Gradescope** for assignment submission and autograding.\n",
    "3. Help to ensure students have **activated their GT Github Accounts** which will be used to distribute all subsequent assignments in this course.\n",
    "4. Provide an optional exercise for students to **evaluate their own course preparedness**.\n",
    "5. Provide a brief Python tutorial/refresher to serve as a starting point for students new to Python.\n",
    "\n",
    "**Note:** This course uses **Python** and it is expected that are either familiar with Python already or will be able to pickup Python quickly on the fly.\n",
    "\n",
    "### Assignment Setup\n",
    "\n",
    "Before beginning this assignment, please ensure that you have completed all prerequisite installation and setup instructions provided in the assignment ReadMe file. Please also make sure that you are running this notebook from within a Conda environment.\n",
    "\n",
    "### Assignment Contents\n",
    "\n",
    "This assignment is worth **2 pts** and consists of **two mandatory programming submissions**. The contents in this notebook begins with a general Git/Jupyter/Python refresher and ends with the the two programming tasks.\n",
    "\n",
    "#### 1. [Setup Verification](#setup)\n",
    "#### 2. [Git Tips](#git)\n",
    "#### 3. [Jupyter Notebook Guide](#jupyter)\n",
    "#### 4. [Python Refresher](#python)\n",
    "#### 5. [First Submission](#submission) [1pt]\n",
    "**Deliverables**: <font color = 'green'>Submit **first_submission.py** to Gradescope</font>\n",
    "#### 6. [Priority Queue](#evaluation) [1pt]\n",
    "**Deliverables**: <font color = 'green'>Submit **priority_queue.py** to Gradescope</font>\n",
    "\n",
    "### Grading\n",
    "\n",
    "Your files will be graded by the Assignment 0 autograder on Gradescope. In general for this course, **the grade you see on Gradescope will be the grade you get, unless an OSI violation is detected**, in which case we will reach out to you separately with OSI procedures. Please note that, Gradescope does NOT automatically enable your BEST submission, it enables your most RECENT submission. Before an assignment deadline, **ALWAYS check that you have activated the submission you want graded in Gradescope**.\n",
    "\n",
    "<font color = 'red'>**Note:** It is EXTREMELY IMPORTANT that you submit this assignment before the deadline as completion of the assignment is necessary for us to release the remaining course assignments to you. Please submit the first task at a minimum (it takes minimal effort) as soon as you have everything set up.</font>"
   ]
  },
  {
   "cell_type": "markdown",
   "metadata": {},
   "source": [
    "---\n",
    "<a name=\"setup\"/></a> <!-- link used in table of contents -->\n",
    "## 1. Setup Verification\n",
    "\n",
    "First, let's make sure you have installed the correct versions of all of the libraries. To install all the libraries, make sure you ran `pip install -r requirements.txt` in your Conda environment.\n",
    "\n",
    "Simply run the cell below. You can click on the cell and press `⇧↩` (Shift + Enter) to run it. If you see any warning/error messages, please make sure you have followed the installation instructions in the [README](./README.md). In case you can't resolve them please check out Edstem thread dedicated to \"Assignment 0\"."
   ]
  },
  {
   "cell_type": "code",
   "execution_count": 1,
   "metadata": {
    "scrolled": false
   },
   "outputs": [
    {
     "name": "stdout",
     "output_type": "stream",
     "text": [
      "Your python version is  3.9.21\n",
      "Package: notebook==6.4.12 ✅ ALL GOOD\n",
      "Package: numpy==1.23.5 ✅ ALL GOOD\n",
      "Package: jupyter==1.0.0 ✅ ALL GOOD\n",
      "Package: traitlets==5.9.0 ✅ ALL GOOD\n"
     ]
    }
   ],
   "source": [
    "%load_ext autoreload\n",
    "%autoreload 2\n",
    "%run helpers/verify_config.py"
   ]
  },
  {
   "cell_type": "markdown",
   "metadata": {},
   "source": [
    "---\n",
    "<a name=\"git\"/></a> <!-- link used in table of contents -->\n",
    "## 2. Git Tips - Keeping your code up to date!\n",
    "\n",
    "After cloning, we recommend creating a branch and doing your development on that branch:\n",
    "\n",
    "`git checkout -b develop`\n",
    "\n",
    "(assuming develop is the name of your branch)\n",
    "\n",
    "If the TAs push out an update to the assignment, you should commit (or stash if you are more comfortable with git) the changes that are unsaved in your repository:\n",
    "\n",
    "`git commit -am \"<some funny message>\"`\n",
    "\n",
    "Then update the master branch from remote:\n",
    "\n",
    "`git fetch origin master`\n",
    "\n",
    "This updates your local copy of the master branch. Now try to merge the master branch into your development branch:\n",
    "\n",
    "`git merge master`\n",
    "\n",
    "(assuming that you are on your development branch)\n",
    "\n",
    "While on your development branch you can also just run:\n",
    "\n",
    "`git pull origin master`\n",
    "\n",
    "which will perform a fetch and then a merge into the branch you are on.\n",
    "\n",
    "There are likely to be merge conflicts during this step. If so, first check which files are in conflict:\n",
    "\n",
    "`git status`\n",
    "\n",
    "The files in conflict are the ones that are \"Not staged for commit\". Open these files using your favourite editor and look for lines containing `<<<<` and `>>>>`. Resolve conflicts in whatever way you deem best. You can use special software like [Sublime Merge](https://www.sublimemerge.com/) to do so. Once you have resolved all conflicts, stage the files that were in conflict:\n",
    "\n",
    "`git add -A .`\n",
    "\n",
    "Finally, commit the new updates to your branch and continue developing:\n",
    "\n",
    "`git commit -am \"<funny message vilifying TAs for the update>\"`"
   ]
  },
  {
   "cell_type": "markdown",
   "metadata": {},
   "source": [
    "---\n",
    "<a name=\"jupyter\"/></a> <!-- link used in table of contents -->\n",
    "## 3. Jupyter Notebook Guide"
   ]
  },
  {
   "cell_type": "markdown",
   "metadata": {},
   "source": [
    "![Jupyter Logo](https://jupyter.org/assets/homepage/main-logo.svg)\n",
    "\n",
    "Jupyter notebooks are an interactive tool for iterative development and prototyping. When learning new concepts it is helpful to be able to look at intermediary results, take notes in Markdown/LaTeX, and have visualizations. All this is possible to achieve using jupyter notebooks."
   ]
  },
  {
   "cell_type": "markdown",
   "metadata": {},
   "source": [
    "In some of the future assignments, notebooks will be used to guide you through the assignment. The main purpose of using notebooks is to reduce the steep learning curve, help you get started quickly by walking you through basic examples, and expose you to APIs used in the assignments. This way, you can focus on understanding the concepts rather than digging down into the implementation details of unrelated bits of code. Jupyter is also very useful when you are debugging things, since you can easily check/modify the content of your variables, without having to rerun all of your code."
   ]
  },
  {
   "cell_type": "markdown",
   "metadata": {},
   "source": [
    " "
   ]
  },
  {
   "cell_type": "markdown",
   "metadata": {},
   "source": [
    "### Cell types \n",
    "Every jupyter notebook consists of cells. Cells come in different types. For the most part, you need to just know two types of cells: Markdown and Code. You can change the type of a cell by clicking on the cell and selecting the type in the toolbar above (Cell>Cell Type). By default all new cells are `Code` type."
   ]
  },
  {
   "cell_type": "markdown",
   "metadata": {},
   "source": [
    "In **Markdown** cells you can provide comments, format them, and write LaTeX. This cell you are reading right now is a [Markdown](https://github.com/adam-p/markdown-here/wiki/Markdown-Cheatsheet) cell. To edit it, you can select it and press 'Enter' or just double click it with your mouse. Once you are done editing it, you can press `⇧↩` (Shift + Enter) to render it as Markdown."
   ]
  },
  {
   "cell_type": "markdown",
   "metadata": {},
   "source": [
    "In **Code** cells you can write code. You can write single or multiple lines of code and you can execute them by pressing `⇧↩` (Shift + Enter)."
   ]
  },
  {
   "cell_type": "markdown",
   "metadata": {},
   "source": [
    " "
   ]
  },
  {
   "cell_type": "markdown",
   "metadata": {},
   "source": [
    "### Basic example\n",
    "\n",
    "Now, let's start with some simple examples and write some basic python. Use `⇧↩` (Shift + Enter) to run the cells below. You can either use a mouse to select the cells or use arrow keys to move the selection window consecutively over cells (you will learn more about how to navigate soon)."
   ]
  },
  {
   "cell_type": "code",
   "execution_count": null,
   "metadata": {},
   "outputs": [],
   "source": [
    "1+1"
   ]
  },
  {
   "cell_type": "code",
   "execution_count": null,
   "metadata": {},
   "outputs": [],
   "source": [
    "a = 10"
   ]
  },
  {
   "cell_type": "code",
   "execution_count": null,
   "metadata": {},
   "outputs": [],
   "source": [
    "a"
   ]
  },
  {
   "cell_type": "code",
   "execution_count": null,
   "metadata": {},
   "outputs": [],
   "source": [
    "a + 5"
   ]
  },
  {
   "cell_type": "code",
   "execution_count": null,
   "metadata": {},
   "outputs": [],
   "source": [
    "a"
   ]
  },
  {
   "cell_type": "markdown",
   "metadata": {},
   "source": [
    "Note that you don't need to write\n",
    "```python\n",
    "print(a)\n",
    "```\n",
    "Simply executing the variable will output its value. This only works for the last variable name written. To print multiple variables, you need to explicitly use print."
   ]
  },
  {
   "cell_type": "code",
   "execution_count": null,
   "metadata": {
    "code_folding": []
   },
   "outputs": [],
   "source": [
    "x = 1\n",
    "y = 2\n",
    "z = 3\n",
    "x\n",
    "y\n",
    "z"
   ]
  },
  {
   "cell_type": "code",
   "execution_count": null,
   "metadata": {},
   "outputs": [],
   "source": [
    "print(x)\n",
    "print(y)\n",
    "print(z)"
   ]
  },
  {
   "cell_type": "markdown",
   "metadata": {},
   "source": [
    "One important aspect of jupyter notebooks is that cells can be executed out-of-order. This can be confusing to newcomers. \n",
    "\n",
    "Let's walk through a simple example:"
   ]
  },
  {
   "cell_type": "code",
   "execution_count": null,
   "metadata": {},
   "outputs": [],
   "source": [
    "# Initialize counter to zero\n",
    "counter = 0"
   ]
  },
  {
   "cell_type": "markdown",
   "metadata": {},
   "source": [
    "Run the `counter += 1` cell multiple times:"
   ]
  },
  {
   "cell_type": "code",
   "execution_count": null,
   "metadata": {},
   "outputs": [],
   "source": [
    "# Run this cell multiple times\n",
    "counter += 1"
   ]
  },
  {
   "cell_type": "markdown",
   "metadata": {},
   "source": [
    "Let's see what's the counter is now:"
   ]
  },
  {
   "cell_type": "code",
   "execution_count": null,
   "metadata": {
    "scrolled": true
   },
   "outputs": [],
   "source": [
    "counter"
   ]
  },
  {
   "cell_type": "markdown",
   "metadata": {},
   "source": [
    "Thus, it is not the order that the cells are presented in, but rather the order in which cells are executed that determines the current variable state. Now let's talk to what the kernel does, and what saving the notebook means."
   ]
  },
  {
   "cell_type": "markdown",
   "metadata": {},
   "source": [
    " "
   ]
  },
  {
   "cell_type": "markdown",
   "metadata": {},
   "source": [
    "### Kernels\n",
    "\n",
    "The Kernel is a computational engine which runs behind the notebook and executes code. Jupyter supports over 40 programming languages, including Python, R, Julia, and Scala. The associated kernels can be setup separately and you can also switch between the different kernels, but we won't need to do it in this class as we will only use the Python kernel."
   ]
  },
  {
   "cell_type": "markdown",
   "metadata": {},
   "source": [
    "In the Kernel tab in the toolbar above you should be able to see multiple commands that you can send to the kernel. Here are descriptions of some of them:\n",
    "\n",
    "* **Interrupt** - stops the execution of the code (helpful when you have a long operation but forget to change some parameter, or in case you have an infinite loop)\n",
    "* **Restart** - clears up all of the variables and releases memory\n",
    "* **Restart & Clear Output** - restarts the kernel + clears all of the cell outputs in the notebook\n",
    "* **Restart & Run All** - restarts the kernel + executes all of the cells"
   ]
  },
  {
   "cell_type": "markdown",
   "metadata": {},
   "source": [
    "It's important to note that kernel state can not be saved, i.e. if you stop/restart the kernel you will need to rerun all of the cells to define the variables. **Restart & Clear Output** is often the best option for beginners to use when restarting the kernel, since it is easy to get confused by the previous outputs. "
   ]
  },
  {
   "cell_type": "markdown",
   "metadata": {},
   "source": [
    "For example, consider the following situation:\n",
    "\n",
    "<img src=\"./misc/uncleared_cell.png\" alt=\"uncleared_cell\" width=\"700\"/>\n",
    "\n",
    "Here, the first cell containing the variable declaration was executed before the kernel was restarted. However, the output associated with the previous kernel state was not cleared when restarting. Once the kernel was restarted, running the second cell produced an error despite the first cell's output indicating that the variable was defined. In order to access any variable you need to make sure the variable is defined in the current kernel state, even if you see some output associated with the cell that defines the variable."
   ]
  },
  {
   "cell_type": "markdown",
   "metadata": {},
   "source": [
    "### Signatures and Docstrings\n",
    "\n",
    "Here are a couple of other things you can do in jupyter. You will find these particularly handy when you will start working on the assignments and want to learn the signatures, docstrings and/or source code of certain classes or functions."
   ]
  },
  {
   "cell_type": "markdown",
   "metadata": {},
   "source": [
    "Run the next two cells:"
   ]
  },
  {
   "cell_type": "code",
   "execution_count": null,
   "metadata": {},
   "outputs": [],
   "source": [
    "# Let's define a function\n",
    "def print_something(n_times=2):\n",
    "    \"\"\"This function shows a greeting message!\"\"\"\n",
    "    assert n_times > 0\n",
    "    for _ in range(n_times):\n",
    "        print(\"Hello from Jupyter!\")"
   ]
  },
  {
   "cell_type": "code",
   "execution_count": null,
   "metadata": {},
   "outputs": [],
   "source": [
    "# Add ? at the end of the function to see its docstring\n",
    "print_something?"
   ]
  },
  {
   "cell_type": "code",
   "execution_count": null,
   "metadata": {},
   "outputs": [],
   "source": [
    "# Same could be achieved if you place the cursor at the end of function name and press ⇧⇥ (Shift + Tab)\n",
    "print_something"
   ]
  },
  {
   "cell_type": "markdown",
   "metadata": {},
   "source": [
    "There are times you might want to look into the source code of a class/function. You can do it by adding `??` after the class/function name."
   ]
  },
  {
   "cell_type": "code",
   "execution_count": null,
   "metadata": {},
   "outputs": [],
   "source": [
    "print_something??"
   ]
  },
  {
   "cell_type": "markdown",
   "metadata": {},
   "source": [
    "It also works for any classes/functions defined outside the notebook."
   ]
  },
  {
   "cell_type": "code",
   "execution_count": null,
   "metadata": {},
   "outputs": [],
   "source": [
    "import numpy as np\n",
    "np.ones??"
   ]
  },
  {
   "cell_type": "code",
   "execution_count": null,
   "metadata": {},
   "outputs": [],
   "source": [
    "# Another way is to place a cursor at the end of the function/class name \n",
    "# and press ⇧⇥⇥ (Shift + Tab + Tab) to show you the docstring\n",
    "np.ones"
   ]
  },
  {
   "cell_type": "markdown",
   "metadata": {},
   "source": [
    "### Magic commands\n",
    "\n",
    "Jupyter has a number of [magic commands](https://ipython.readthedocs.io/en/stable/interactive/magics.html) you can use (to list all of the magic functions run: `%lsmagic`). You already used one of them above. It was `%run script_name`, which can be used to run `*.py` scripts inside the notebook. This is equivalent to running ``python script_name`` in the terminal. "
   ]
  },
  {
   "cell_type": "markdown",
   "metadata": {},
   "source": [
    "Let's try out the `%time` magic command, which measures the execution time of a cell or line of code. It will be useful in future assignments. For example if you are optimizing the execution speed of your code, you can use this magic command to time different approaches. Here are two ways you can use `%time`:\n",
    "\n",
    "* `%time` - to time a single line of code; **OR**\n",
    "* `%%time` - to time the whole cell\n",
    "\n",
    "Here is an example detailing how `%time` can be used:"
   ]
  },
  {
   "cell_type": "code",
   "execution_count": null,
   "metadata": {},
   "outputs": [],
   "source": [
    "import random"
   ]
  },
  {
   "cell_type": "markdown",
   "metadata": {},
   "source": [
    "Let's create an array of random integers and time it:"
   ]
  },
  {
   "cell_type": "code",
   "execution_count": null,
   "metadata": {},
   "outputs": [],
   "source": [
    "%%time \n",
    "# will time whole cell\n",
    "random_integers = []\n",
    "for _ in range(10000):\n",
    "    random_integers.append(random.randint(0,100))"
   ]
  },
  {
   "cell_type": "markdown",
   "metadata": {},
   "source": [
    "Now, let's time the same operation using list comprehension instead:"
   ]
  },
  {
   "cell_type": "code",
   "execution_count": null,
   "metadata": {},
   "outputs": [],
   "source": [
    "%time random_integers = [random.randint(0,100) for _ in range(10000)] # will time only this line"
   ]
  },
  {
   "cell_type": "markdown",
   "metadata": {},
   "source": [
    "In the next example, we use `%timeit` to compare a standard python vs numpy implementation of scalar multiplication operation on a 1D array. Note that `%timeit` and `%time` are slightly different. You can read about the differences and about other magic commands [here](https://ipython.readthedocs.io/en/stable/interactive/magics.html)."
   ]
  },
  {
   "cell_type": "code",
   "execution_count": null,
   "metadata": {},
   "outputs": [],
   "source": [
    "n_items = 1000000\n",
    "# Create two identical arrays\n",
    "integer_list = list(range(n_items))\n",
    "integer_array = np.arange(n_items)\n",
    "# make sure both 1D arrays are exactly the same\n",
    "assert np.allclose(integer_list, integer_array, rtol=0.0)"
   ]
  },
  {
   "cell_type": "code",
   "execution_count": null,
   "metadata": {},
   "outputs": [],
   "source": [
    "def scalar_mult_1D(somelist):\n",
    "    # inplace operation\n",
    "    for index, value in enumerate(somelist):\n",
    "        somelist[index] = 2 * value\n",
    "    return somelist"
   ]
  },
  {
   "cell_type": "code",
   "execution_count": null,
   "metadata": {},
   "outputs": [],
   "source": [
    "def np_scalar_mult_1D(nplist):\n",
    "    return 2*nplist"
   ]
  },
  {
   "cell_type": "code",
   "execution_count": null,
   "metadata": {},
   "outputs": [],
   "source": [
    "%timeit scalar_mult_1D(integer_list)"
   ]
  },
  {
   "cell_type": "code",
   "execution_count": null,
   "metadata": {},
   "outputs": [],
   "source": [
    "%timeit np_scalar_mult_1D(integer_array)"
   ]
  },
  {
   "cell_type": "code",
   "execution_count": null,
   "metadata": {},
   "outputs": [],
   "source": [
    "integer_list = list(range(n_items))\n",
    "integer_array = np.arange(n_items)\n",
    "integer_list_2x = scalar_mult_1D(integer_list)\n",
    "integer_array_x2 = np_scalar_mult_1D(integer_array)\n",
    "# make sure the resultant arrays are the same\n",
    "assert np.allclose(integer_list, integer_array_x2, rtol=0.0)"
   ]
  },
  {
   "cell_type": "markdown",
   "metadata": {},
   "source": [
    "As you can see, for this simple task python arrays are ~100x slower. You will learn more about numpy later on in the class. For now, we will stick to standard python."
   ]
  },
  {
   "cell_type": "markdown",
   "metadata": {},
   "source": [
    "### Interface and Hotkeys\n",
    "\n",
    "To learn more about the interface and about jupyter notebooks in general, check out the `Help` section in the menu.\n",
    "\n",
    "Here is the TL;DR version of what you should know."
   ]
  },
  {
   "cell_type": "markdown",
   "metadata": {},
   "source": [
    "#### Modal editor\n",
    "\n",
    "There are two modes in the jupyter: edit mode and command mode.\n"
   ]
  },
  {
   "cell_type": "markdown",
   "metadata": {},
   "source": [
    "#### Edit\n",
    "Edit mode is indicated by a green cell border and a prompt showing in the editor area:\n",
    "\n",
    "![edit_image.png](https://nbviewer.jupyter.org/github/ipython/ipython/blob/3.x/examples/Notebook/images/edit_mode.png)\n",
    "\n",
    "You can press **Enter** to enter edit mode or click with a mouse in the editable area."
   ]
  },
  {
   "cell_type": "markdown",
   "metadata": {},
   "source": [
    "#### Command\n",
    "Command mode is indicated by a grey cell border:\n",
    "\n",
    "![command_image.png](https://nbviewer.jupyter.org/github/ipython/ipython/blob/3.x/examples/Notebook/images/command_mode.png)\n",
    "\n",
    "Use **Esc** to enable command mode or click outside the editable area of a cell with a mouse.\n",
    "\n",
    "When you are in command mode, you can edit the notebook as a whole, but you cannot type into individual cells. Most importantly, the keyboard is mapped to a set of shortcuts that let you perform notebook and cell actions efficiently. For example, if you are in command mode and you press `c`, you will copy the current cell - no modifier is needed.\n"
   ]
  },
  {
   "cell_type": "markdown",
   "metadata": {},
   "source": [
    "#### Hotkeys\n",
    "\n",
    "There are a lot of useful hotkeys in jupyter. You can see them all in (Help > Keyboard Shortcuts).\n",
    "\n",
    "Here is a list of the ones that will save you the most time. You can use these in both command and edit mode and they will perform the same action.\n",
    "\n",
    "* **Shift + Enter** - Run cell + select next cell\n",
    "* **Alt + Enter** - Run cell + insert new cell below\n",
    "\n",
    "Here are hotkeys you can use in command mode only.\n",
    "* **a** - Insert cell above\n",
    "* **b** - Insert cell below\n",
    "* **Shift + Up-Down Arrow key** or **Shift + mouse click cells** - select multiple cells.\n",
    "* **x** - Cut the selected cell(s)\n",
    "* **c** - Copy the selected cell(s)\n",
    "* **v** - Paste the selected cell(s)\n",
    "* **m** - Convert the cell to markdown (after your run the markdown cell, you can double click it to edit)\n",
    "* **y** - Convert the cell back to code"
   ]
  },
  {
   "cell_type": "markdown",
   "metadata": {},
   "source": [
    "### Summary\n",
    "\n",
    "We highly recommend that you spend some time in this notebook and play around with any new concepts you encountered in this tutorial. If you haven't worked with jupyter notebooks before, experimenting with them here will save you a lot of time in the future.\n",
    "\n",
    "Here is a list of things to remember:\n",
    "\n",
    "1. Cells in the notebook can be executed in arbitrary order\n",
    "1. It might be healthy to restart the kernel from time to time if you are losing track of what you did/didn't execute\n",
    "1. Use **Restart & Clear Output** to restart the kernel to avoid confusion with old output\n",
    "1. Feel free to rearrange the cells in notebook since only **.py** files are submitted"
   ]
  },
  {
   "cell_type": "markdown",
   "metadata": {},
   "source": [
    "---\n",
    "<a name=\"python\"/></a> <!-- link used in table of contents -->\n",
    "## 4. Python Refresher\n",
    "\n",
    "If you are not at all familiar with Python, start learning! Although you can use any tutorial you like, here are a couple to get you started:\n",
    "* [A beginner’s guide](https://wiki.python.org/moin/BeginnersGuide)\n",
    "* [An interactive track in CodeAcademy](https://www.codecademy.com/learn/learn-python-3)\n",
    "\n",
    "Below are a number of cells you can run to get a quick refresher on Python."
   ]
  },
  {
   "cell_type": "markdown",
   "metadata": {},
   "source": [
    "#### int/float operations"
   ]
  },
  {
   "cell_type": "code",
   "execution_count": null,
   "metadata": {},
   "outputs": [],
   "source": [
    "some_int = 2\n",
    "some_float = 4."
   ]
  },
  {
   "cell_type": "code",
   "execution_count": null,
   "metadata": {},
   "outputs": [],
   "source": [
    "some_int + some_float"
   ]
  },
  {
   "cell_type": "code",
   "execution_count": null,
   "metadata": {},
   "outputs": [],
   "source": [
    "some_int * some_float"
   ]
  },
  {
   "cell_type": "code",
   "execution_count": null,
   "metadata": {
    "scrolled": true
   },
   "outputs": [],
   "source": [
    "some_int / some_float"
   ]
  },
  {
   "cell_type": "code",
   "execution_count": null,
   "metadata": {},
   "outputs": [],
   "source": [
    "2/4 # int division results in float"
   ]
  },
  {
   "cell_type": "markdown",
   "metadata": {},
   "source": [
    "#### string operations"
   ]
  },
  {
   "cell_type": "code",
   "execution_count": null,
   "metadata": {},
   "outputs": [],
   "source": [
    "some_string = \"Hello \""
   ]
  },
  {
   "cell_type": "code",
   "execution_count": null,
   "metadata": {
    "scrolled": true
   },
   "outputs": [],
   "source": [
    "some_string + \"world!\" # you can concatenate strings with + operator"
   ]
  },
  {
   "cell_type": "code",
   "execution_count": null,
   "metadata": {},
   "outputs": [],
   "source": [
    "some_string"
   ]
  },
  {
   "cell_type": "code",
   "execution_count": null,
   "metadata": {},
   "outputs": [],
   "source": [
    "some_string[:2]"
   ]
  },
  {
   "cell_type": "code",
   "execution_count": null,
   "metadata": {},
   "outputs": [],
   "source": [
    "some_string[-2:]"
   ]
  },
  {
   "cell_type": "code",
   "execution_count": null,
   "metadata": {},
   "outputs": [],
   "source": [
    "some_string[-3:-1]"
   ]
  },
  {
   "cell_type": "markdown",
   "metadata": {},
   "source": [
    "#### Array/List operations"
   ]
  },
  {
   "cell_type": "code",
   "execution_count": null,
   "metadata": {},
   "outputs": [],
   "source": [
    "some_array = [] # new empty array/list"
   ]
  },
  {
   "cell_type": "code",
   "execution_count": null,
   "metadata": {},
   "outputs": [],
   "source": [
    "some_array"
   ]
  },
  {
   "cell_type": "code",
   "execution_count": null,
   "metadata": {},
   "outputs": [],
   "source": [
    "some_array.append(11)\n",
    "some_array.append(12)\n",
    "some_array.append(13)\n",
    "some_array.append(20)"
   ]
  },
  {
   "cell_type": "code",
   "execution_count": null,
   "metadata": {},
   "outputs": [],
   "source": [
    "some_array"
   ]
  },
  {
   "cell_type": "code",
   "execution_count": null,
   "metadata": {},
   "outputs": [],
   "source": [
    "some_array.pop()"
   ]
  },
  {
   "cell_type": "code",
   "execution_count": null,
   "metadata": {},
   "outputs": [],
   "source": [
    "some_array"
   ]
  },
  {
   "cell_type": "code",
   "execution_count": null,
   "metadata": {},
   "outputs": [],
   "source": [
    "some_array[1] # indexing lists starts from 0"
   ]
  },
  {
   "cell_type": "code",
   "execution_count": null,
   "metadata": {},
   "outputs": [],
   "source": [
    "some_array[1] = 22"
   ]
  },
  {
   "cell_type": "code",
   "execution_count": null,
   "metadata": {},
   "outputs": [],
   "source": [
    "some_array # lists are mutable"
   ]
  },
  {
   "cell_type": "markdown",
   "metadata": {},
   "source": [
    "#### tuples"
   ]
  },
  {
   "cell_type": "code",
   "execution_count": null,
   "metadata": {},
   "outputs": [],
   "source": [
    "some_tuple = (1,2,3) "
   ]
  },
  {
   "cell_type": "code",
   "execution_count": null,
   "metadata": {},
   "outputs": [],
   "source": [
    "some_tuple[1]"
   ]
  },
  {
   "cell_type": "code",
   "execution_count": null,
   "metadata": {},
   "outputs": [],
   "source": [
    "some_tuple[1] = 123 # tuples are immutable (you will get an error)"
   ]
  },
  {
   "cell_type": "code",
   "execution_count": null,
   "metadata": {},
   "outputs": [],
   "source": [
    "# The only way to modify tuple is to convert it to array/list and then back to tuple\n",
    "temp_list = list(some_tuple)\n",
    "temp_list[1] = 123\n",
    "some_tuple = tuple(temp_list)\n",
    "some_tuple"
   ]
  },
  {
   "cell_type": "markdown",
   "metadata": {},
   "source": [
    "#### dictionaries"
   ]
  },
  {
   "cell_type": "code",
   "execution_count": null,
   "metadata": {},
   "outputs": [],
   "source": [
    "some_dict = {}\n",
    "some_dict['name'] = \"Alice\"\n",
    "some_dict['age'] = \"21\"\n",
    "some_dict"
   ]
  },
  {
   "cell_type": "code",
   "execution_count": null,
   "metadata": {},
   "outputs": [],
   "source": [
    "some_dict['name']"
   ]
  },
  {
   "cell_type": "code",
   "execution_count": null,
   "metadata": {},
   "outputs": [],
   "source": [
    "some_dict.keys()"
   ]
  },
  {
   "cell_type": "code",
   "execution_count": null,
   "metadata": {},
   "outputs": [],
   "source": [
    "some_dict.values()"
   ]
  },
  {
   "cell_type": "code",
   "execution_count": null,
   "metadata": {},
   "outputs": [],
   "source": [
    "some_dict.items() # you can iterate through these"
   ]
  },
  {
   "cell_type": "code",
   "execution_count": null,
   "metadata": {},
   "outputs": [],
   "source": [
    "for key, value in some_dict.items():\n",
    "    print(f\"{key} - {value}\")"
   ]
  },
  {
   "cell_type": "markdown",
   "metadata": {},
   "source": [
    "#### loops"
   ]
  },
  {
   "cell_type": "code",
   "execution_count": null,
   "metadata": {},
   "outputs": [],
   "source": [
    "# For loops\n",
    "for i in [10,20,30,40]:\n",
    "    print(i)"
   ]
  },
  {
   "cell_type": "code",
   "execution_count": null,
   "metadata": {},
   "outputs": [],
   "source": [
    "# More for loops\n",
    "for i in range(5):\n",
    "    print(f\"square of {i} is {i**2}\")"
   ]
  },
  {
   "cell_type": "code",
   "execution_count": null,
   "metadata": {},
   "outputs": [],
   "source": [
    "# While loops\n",
    "i=0\n",
    "while i < 5:\n",
    "    print(f\"square of {i} is {i**2}\")\n",
    "    i+=1"
   ]
  },
  {
   "cell_type": "code",
   "execution_count": null,
   "metadata": {},
   "outputs": [],
   "source": [
    "some_array = []\n",
    "for i in range(5):\n",
    "    some_array.append(i**3)\n",
    "some_array"
   ]
  },
  {
   "cell_type": "markdown",
   "metadata": {},
   "source": [
    "#### list comprehensions"
   ]
  },
  {
   "cell_type": "code",
   "execution_count": null,
   "metadata": {},
   "outputs": [],
   "source": [
    "some_array = [i**3 for i in range(5)]\n",
    "some_array"
   ]
  },
  {
   "cell_type": "code",
   "execution_count": null,
   "metadata": {},
   "outputs": [],
   "source": [
    "even_numbers = [i for i in range(25) if i%2 == 0]\n",
    "even_numbers"
   ]
  },
  {
   "cell_type": "markdown",
   "metadata": {},
   "source": [
    "#### functions"
   ]
  },
  {
   "cell_type": "code",
   "execution_count": null,
   "metadata": {},
   "outputs": [],
   "source": [
    "def some_function(some_arg):\n",
    "    print(f\"Argument is: {some_arg}\")"
   ]
  },
  {
   "cell_type": "code",
   "execution_count": null,
   "metadata": {},
   "outputs": [],
   "source": [
    "some_function(1)"
   ]
  },
  {
   "cell_type": "code",
   "execution_count": null,
   "metadata": {},
   "outputs": [],
   "source": [
    "def some_function(some_arg=42): # default values\n",
    "    print(f\"Argument is: {some_arg}\")"
   ]
  },
  {
   "cell_type": "code",
   "execution_count": null,
   "metadata": {},
   "outputs": [],
   "source": [
    "some_function()"
   ]
  },
  {
   "cell_type": "markdown",
   "metadata": {},
   "source": [
    "#### classes"
   ]
  },
  {
   "cell_type": "code",
   "execution_count": null,
   "metadata": {},
   "outputs": [],
   "source": [
    "class SomeClass():\n",
    "    def __init__(self, a, b):\n",
    "        self.a = a\n",
    "        self.b = b\n",
    "    def get_a(self):\n",
    "        return self.a\n",
    "    def get_b(self):\n",
    "        return self.b"
   ]
  },
  {
   "cell_type": "code",
   "execution_count": null,
   "metadata": {},
   "outputs": [],
   "source": [
    "my_object = SomeClass(10,100)\n",
    "my_object.get_b()"
   ]
  },
  {
   "cell_type": "markdown",
   "metadata": {},
   "source": [
    "#### function pass by reference"
   ]
  },
  {
   "cell_type": "code",
   "execution_count": null,
   "metadata": {},
   "outputs": [],
   "source": [
    "def some_function():\n",
    "    return 42\n",
    "\n",
    "def print_function_output(fn):\n",
    "    print(fn())\n",
    "\n",
    "print_function_output(some_function) # note that some_function has not executed here"
   ]
  },
  {
   "cell_type": "markdown",
   "metadata": {},
   "source": [
    "#### unpacking"
   ]
  },
  {
   "cell_type": "code",
   "execution_count": null,
   "metadata": {},
   "outputs": [],
   "source": [
    "# Using asterisk to pack the rest of the output\n",
    "def foo():\n",
    "    return 1,2,3,4,5,6,7\n",
    "\n",
    "a, *_ = foo() # in case you are interested only in the first value returned\n",
    "a"
   ]
  },
  {
   "cell_type": "markdown",
   "metadata": {},
   "source": [
    "#### Nobody is perfect. A few Python quirks"
   ]
  },
  {
   "cell_type": "code",
   "execution_count": null,
   "metadata": {},
   "outputs": [],
   "source": [
    "def foo(a=[]):\n",
    "    a.append(1)\n",
    "    print(a)"
   ]
  },
  {
   "cell_type": "code",
   "execution_count": null,
   "metadata": {},
   "outputs": [],
   "source": [
    "foo()"
   ]
  },
  {
   "cell_type": "code",
   "execution_count": null,
   "metadata": {},
   "outputs": [],
   "source": [
    "foo()"
   ]
  },
  {
   "cell_type": "code",
   "execution_count": null,
   "metadata": {},
   "outputs": [],
   "source": [
    "foo()"
   ]
  },
  {
   "cell_type": "markdown",
   "metadata": {},
   "source": [
    "For more details and how to avoid it, see: [https://docs.python-guide.org/writing/gotchas/](https://docs.python-guide.org/writing/gotchas/)"
   ]
  },
  {
   "cell_type": "markdown",
   "metadata": {},
   "source": [
    "Here is another quirk:"
   ]
  },
  {
   "cell_type": "code",
   "execution_count": null,
   "metadata": {},
   "outputs": [],
   "source": [
    "a = 0\n",
    "for i in range(10000000):\n",
    "    a += 0.1\n",
    "print(a)"
   ]
  },
  {
   "cell_type": "markdown",
   "metadata": {},
   "source": [
    "The problem is an approximation of 0.1. The true decimal value of the binary approximation stored by the machine is:\n",
    "```python\n",
    "> 0.1\n",
    "0.1000000000000000055511151231257827021181583404541015625\n",
    "```\n",
    "The error in the approximation accumulates as you sum up many 0.1s. See here for more detail: https://docs.python.org/3.4/tutorial/floatingpoint.html"
   ]
  },
  {
   "cell_type": "markdown",
   "metadata": {},
   "source": [
    "And yet another quirk, that students have trouble with quite often in the assignments for this class:"
   ]
  },
  {
   "cell_type": "code",
   "execution_count": null,
   "metadata": {},
   "outputs": [],
   "source": [
    "a = [1,2]\n",
    "b = a\n",
    "b.append(3)\n",
    "print(a)\n",
    "print(b)"
   ]
  },
  {
   "cell_type": "markdown",
   "metadata": {},
   "source": [
    "The last case happens because the lists/arrays are passed by reference. You can avoid it using the following technique:"
   ]
  },
  {
   "cell_type": "code",
   "execution_count": null,
   "metadata": {},
   "outputs": [],
   "source": [
    "import copy\n",
    "a = [1,2]\n",
    "b = copy.copy(a)\n",
    "b.append(3)\n",
    "print(a)\n",
    "print(b)"
   ]
  },
  {
   "cell_type": "markdown",
   "metadata": {},
   "source": [
    "### Debugger\n",
    "\n",
    "You can use debuggers within jupyter. There are two available by default: `%pdb` & `%debug`. We won't be covering those here. There are multiple tutorials available online that you can reference.\n",
    "* https://davidhamann.de/2017/04/22/debugging-jupyter-notebooks/\n",
    "* https://www.blog.pythonlibrary.org/2018/10/17/jupyter-notebook-debugging/\n",
    "\n",
    "There are also visual third party debuggers that you can try: \n",
    "* https://www.analyticsvidhya.com/blog/2018/07/pixie-debugger-python-debugging-tool-jupyter-notebooks-data-scientist-must-use/."
   ]
  },
  {
   "cell_type": "markdown",
   "metadata": {},
   "source": [
    "---\n",
    "<a name=\"submission\"/></a> <!-- link used in table of contents -->\n",
    "## 5. First Submission [1pt]\n",
    "\n",
    "**Deliverables**: <font color = 'green'>Submit **first_submission.py** to Gradescope</font>\n",
    "\n",
    "It's time to earn your first point!\n",
    "\n",
    "1. Login to your Georgia Tech Enterprise Github account [here](https://github.gatech.edu/) using your GT Username (i.e. gburdell3) and your GT Password. We will be using GT Github to release assignments to you, so it is crucial that you have this setup properly.\n",
    "\n",
    "2. Once you have successfully logged in to Georgia Tech Enterprise Github, open the file `first_submission.py` found in this assignment directory and complete the incomplete functions. If completed properly, running the code cell below should return your GT Username.\n",
    "\n",
    "3. Submit `first_submission.py` to Gradescope. If your GT Github account has been activated and your submitted username matches, you will receive full credit for this assignment!"
   ]
  },
  {
   "cell_type": "code",
   "execution_count": 2,
   "metadata": {},
   "outputs": [
    {
     "name": "stdout",
     "output_type": "stream",
     "text": [
      "Your GT Username is: jkupa3\n"
     ]
    }
   ],
   "source": [
    "from first_submission import return_gtusername\n",
    "\n",
    "print(f\"Your GT Username is: {return_gtusername()}\")"
   ]
  },
  {
   "cell_type": "markdown",
   "metadata": {},
   "source": [
    "---\n",
    "<a name=\"evaluation\"/></a> <!-- link used in table of contents -->\n",
    "## 6. Priority Queue [1pt]\n",
    "\n",
    "**Deliverables**: <font color = 'green'>Submit **priority_queue.py** to Gradescope</font>\n",
    "\n",
    "In order to help you evaluate your readiness for this course, we've provided a warmup task for you. Students are expected to be able to solve this warmup on their own and it should be a refresher of Python and computer programming concepts. If students have not programmed in Python or have not learned this concept before, the expectation is that students should be able to learn Python on the fly and learn the prerequisite programming concepts on their own time. **For this task only, you may reference resources outside of the approved course resources, however please refrain from referencing any pseudocode and try to complete this evaluation on your own.**\n",
    "\n",
    "A common data structure used in search algorithms is the **Priority Queue**, often used to identify which path to investigate next, prioritizing shorter paths in hopes of finding the shortest path from a source to a destination. In this exercise, we ask you to implement a Priority Queue that takes on elements in the form of a tuple: `(priority, payload)`, where elements with a higher priority (in our case a *smaller value*) should be removed first, and if two elements have the same priority, the element that joined the queue earlier should be removed first (FIFO ordering). The file for you to edit and submit to Gradescope with `first_submission.py` above is `priority_queue.py`.\n",
    "\n",
    "A common implementation of a Priority Queue is via a *Binary Heap*. Binary heaps are a popular option because they provide *amortized $O(1)$ insertion and $O(\\log(n))$ removal time*. To pass our tests, your Priority Queue must perform better than the naive implementation in our tests (`InsertionSortQueue`), which sorts the entire list after every insertion. We recommend looking at the Python documentation for their [`heapq` module](https://docs.python.org/3/library/heapq.html) for inspiration if you are stuck, although please do your best to try to figure it out on your own.\n",
    "\n",
    "Do **NOT** add or remove any imports to `priority_queue.py`! If you find some imports helpful while you are working on the file, please make sure to remove them before submitting to Gradescope. Some local tests have been provided for you below, note that they are not comprehensive and you are encouraged to add your own!\n",
    "\n",
    "> **FAQ**\n",
    "> 1. **Can I use special Python libraries?** No. You may not use libraries like `heapq` for your implementation, it is expected that students be able to implement the Priority Queue from scratch. Only the libraries provided in this assignment are allowed.\n",
    "> 2. Implement the functions `pop` and `append` in the `PriorityQueue` class at a minimum. You can add extra helper functions within the class if you'd like and you may also implement `remove` if you find that necessary.\n",
    "> 3. Preserve FIFO. It is possible for the priority queue to receive two elements with the same priority. In the event that that occurs, the element that joined the priority queue first should be returned first. The best hint we can give you is to think about using some sort of a counter to keep track of when each node joined the Priority Queue...\n",
    "> 4. Generalize. The nodes provided to the priority queue will be Python tuples in the form of `(priority, payload)`. You may assume that the datatype for `priority` is a standard Python datatype (i.e. `int`, `float`, `str`, etc.). The `payload` can be of any datatype (standard or custom).\n",
    "> 5. It is possible for duplicate nodes to enter the queue. (i.e. identical priority, identical payload)"
   ]
  },
  {
   "cell_type": "code",
   "execution_count": 23,
   "metadata": {},
   "outputs": [
    {
     "name": "stdout",
     "output_type": "stream",
     "text": [
      "queue: [((408, 'a'), 0)]\n",
      "parent_idx: -1 - parent_node: ((408, 'a'), 0), index: 0 - index_node: ((408, 'a'), 0)\n",
      "queue: [((408, 'a'), 0), ((6613, 'a'), 1)]\n",
      "parent_idx: 0 - parent_node: ((408, 'a'), 0), index: 1 - index_node: ((6613, 'a'), 1)\n",
      "queue: [((408, 'a'), 0), ((6613, 'a'), 1), ((2059, 'a'), 2)]\n",
      "parent_idx: 0 - parent_node: ((408, 'a'), 0), index: 2 - index_node: ((2059, 'a'), 2)\n",
      "queue: [((408, 'a'), 0), ((6613, 'a'), 1), ((2059, 'a'), 2), ((6926, 'a'), 3)]\n",
      "parent_idx: 1 - parent_node: ((6613, 'a'), 1), index: 3 - index_node: ((6926, 'a'), 3)\n",
      "queue: [((408, 'a'), 0), ((6613, 'a'), 1), ((2059, 'a'), 2), ((6926, 'a'), 3), ((1676, 'a'), 4)]\n",
      "parent_idx: 1 - parent_node: ((6613, 'a'), 1), index: 4 - index_node: ((1676, 'a'), 4)\n",
      "queue: [((408, 'a'), 0), ((1676, 'a'), 4), ((2059, 'a'), 2), ((6926, 'a'), 3), ((6613, 'a'), 1)]\n",
      "parent_idx: 0 - parent_node: ((408, 'a'), 0), index: 1 - index_node: ((1676, 'a'), 4)\n",
      "queue: [((408, 'a'), 0), ((1676, 'a'), 4), ((2059, 'a'), 2), ((6926, 'a'), 3), ((6613, 'a'), 1), ((3527, 'a'), 5)]\n",
      "parent_idx: 2 - parent_node: ((2059, 'a'), 2), index: 5 - index_node: ((3527, 'a'), 5)\n",
      "queue: [((408, 'a'), 0), ((1676, 'a'), 4), ((2059, 'a'), 2), ((6926, 'a'), 3), ((6613, 'a'), 1), ((3527, 'a'), 5), ((8632, 'a'), 6)]\n",
      "parent_idx: 2 - parent_node: ((2059, 'a'), 2), index: 6 - index_node: ((8632, 'a'), 6)\n",
      "queue: [((408, 'a'), 0), ((1676, 'a'), 4), ((2059, 'a'), 2), ((6926, 'a'), 3), ((6613, 'a'), 1), ((3527, 'a'), 5), ((8632, 'a'), 6), ((9283, 'a'), 7)]\n",
      "parent_idx: 3 - parent_node: ((6926, 'a'), 3), index: 7 - index_node: ((9283, 'a'), 7)\n",
      "queue: [((408, 'a'), 0), ((1676, 'a'), 4), ((2059, 'a'), 2), ((6926, 'a'), 3), ((6613, 'a'), 1), ((3527, 'a'), 5), ((8632, 'a'), 6), ((9283, 'a'), 7), ((4657, 'a'), 8)]\n",
      "parent_idx: 3 - parent_node: ((6926, 'a'), 3), index: 8 - index_node: ((4657, 'a'), 8)\n",
      "queue: [((408, 'a'), 0), ((1676, 'a'), 4), ((2059, 'a'), 2), ((4657, 'a'), 8), ((6613, 'a'), 1), ((3527, 'a'), 5), ((8632, 'a'), 6), ((9283, 'a'), 7), ((6926, 'a'), 3)]\n",
      "parent_idx: 1 - parent_node: ((1676, 'a'), 4), index: 3 - index_node: ((4657, 'a'), 8)\n",
      "queue: [((408, 'a'), 0), ((1676, 'a'), 4), ((2059, 'a'), 2), ((4657, 'a'), 8), ((6613, 'a'), 1), ((3527, 'a'), 5), ((8632, 'a'), 6), ((9283, 'a'), 7), ((6926, 'a'), 3), ((7357, 'a'), 9)]\n",
      "parent_idx: 4 - parent_node: ((6613, 'a'), 1), index: 9 - index_node: ((7357, 'a'), 9)\n",
      "UnitTest passed successfully for \"test_append_and_pop\"!\n",
      "queue: [((1, 'b'), 0)]\n",
      "parent_idx: -1 - parent_node: ((1, 'b'), 0), index: 0 - index_node: ((1, 'b'), 0)\n",
      "queue: [((1, 'b'), 0), ((1, 'c'), 1)]\n",
      "parent_idx: 0 - parent_node: ((1, 'b'), 0), index: 1 - index_node: ((1, 'c'), 1)\n",
      "queue: [((1, 'b'), 0), ((1, 'c'), 1), ((1, 'a'), 2)]\n",
      "parent_idx: 0 - parent_node: ((1, 'b'), 0), index: 2 - index_node: ((1, 'a'), 2)\n",
      "queue: PQ:[((1, 'b'), 0), ((1, 'c'), 1), ((1, 'a'), 2)]\n",
      "temp_list: [(1, 'b'), (1, 'c'), (1, 'a')]\n",
      "UnitTest passed successfully for \"test_fifo_property\"!\n",
      "queue: [((1, 'b'), 0)]\n",
      "parent_idx: -1 - parent_node: ((1, 'b'), 0), index: 0 - index_node: ((1, 'b'), 0)\n",
      "queue: [((1, 'b'), 0), ((-1, 'c'), 1)]\n",
      "parent_idx: 0 - parent_node: ((1, 'b'), 0), index: 1 - index_node: ((-1, 'c'), 1)\n",
      "queue: [((-1, 'c'), 1), ((1, 'b'), 0)]\n",
      "parent_idx: -1 - parent_node: ((1, 'b'), 0), index: 0 - index_node: ((-1, 'c'), 1)\n",
      "queue: [((-1, 'c'), 1), ((1, 'b'), 0), ((100, 'a'), 2)]\n",
      "parent_idx: 0 - parent_node: ((-1, 'c'), 1), index: 2 - index_node: ((100, 'a'), 2)\n",
      "queue: [((-1, 'c'), 1), ((1, 'b'), 0), ((100, 'a'), 2), ((10.4, 'd'), 3)]\n",
      "parent_idx: 1 - parent_node: ((1, 'b'), 0), index: 3 - index_node: ((10.4, 'd'), 3)\n",
      "queue: [((-1, 'c'), 1), ((1, 'b'), 0), ((100, 'a'), 2), ((10.4, 'd'), 3), ((1, 'e'), 4)]\n",
      "parent_idx: 1 - parent_node: ((1, 'b'), 0), index: 4 - index_node: ((1, 'e'), 4)\n",
      "queue: [((-1, 'c'), 1), ((1, 'b'), 0), ((100, 'a'), 2), ((10.4, 'd'), 3), ((1, 'e'), 4), ((-1, 'f'), 5)]\n",
      "parent_idx: 2 - parent_node: ((100, 'a'), 2), index: 5 - index_node: ((-1, 'f'), 5)\n",
      "queue: [((-1, 'c'), 1), ((1, 'b'), 0), ((-1, 'f'), 5), ((10.4, 'd'), 3), ((1, 'e'), 4), ((100, 'a'), 2)]\n",
      "parent_idx: 0 - parent_node: ((-1, 'c'), 1), index: 2 - index_node: ((-1, 'f'), 5)\n",
      "queue: PQ:[((-1, 'c'), 1), ((1, 'b'), 0), ((-1, 'f'), 5), ((10.4, 'd'), 3), ((1, 'e'), 4), ((100, 'a'), 2)]\n",
      "temp_list: [(1, 'b'), (-1, 'c'), (100, 'a'), (10.4, 'd'), (1, 'e'), (-1, 'f')]\n",
      "UnitTest passed successfully for \"test_fifo_property\"!\n",
      "queue: [(('alice', 'b'), 0)]\n",
      "parent_idx: -1 - parent_node: (('alice', 'b'), 0), index: 0 - index_node: (('alice', 'b'), 0)\n",
      "queue: [(('alice', 'b'), 0), ((-1, 'c'), 1)]\n",
      "parent_idx: 0 - parent_node: (('alice', 'b'), 0), index: 1 - index_node: ((-1, 'c'), 1)\n"
     ]
    },
    {
     "ename": "TypeError",
     "evalue": "'<' not supported between instances of 'int' and 'str'",
     "output_type": "error",
     "traceback": [
      "\u001b[1;31m-----------------------------------------------------------------\u001b[0m",
      "\u001b[1;31mTypeError\u001b[0m                       Traceback (most recent call last)",
      "Cell \u001b[1;32mIn[23], line 8\u001b[0m\n\u001b[0;32m      6\u001b[0m TestPriorityQueue(\u001b[38;5;124m\"\u001b[39m\u001b[38;5;124mtest_fifo_property\u001b[39m\u001b[38;5;124m\"\u001b[39m)\u001b[38;5;241m.\u001b[39mtest_fifo_property(PriorityQueue)\n\u001b[0;32m      7\u001b[0m TestPriorityQueue(\u001b[38;5;124m\"\u001b[39m\u001b[38;5;124mtest_fifo_property\u001b[39m\u001b[38;5;124m\"\u001b[39m)\u001b[38;5;241m.\u001b[39mtest_fifo_property2(PriorityQueue)\n\u001b[1;32m----> 8\u001b[0m \u001b[43mTestPriorityQueue\u001b[49m\u001b[43m(\u001b[49m\u001b[38;5;124;43m\"\u001b[39;49m\u001b[38;5;124;43mtest_fifo_property\u001b[39;49m\u001b[38;5;124;43m\"\u001b[39;49m\u001b[43m)\u001b[49m\u001b[38;5;241;43m.\u001b[39;49m\u001b[43mtest_fifo_property3\u001b[49m\u001b[43m(\u001b[49m\u001b[43mPriorityQueue\u001b[49m\u001b[43m)\u001b[49m\n",
      "File \u001b[1;32m~\\GTDev\\AI\\Proj0\\spring_cs6601_a0\\utilities\\localtests.py:76\u001b[0m, in \u001b[0;36mTestPriorityQueue.test_fifo_property3\u001b[1;34m(self, PriorityQueue)\u001b[0m\n\u001b[0;32m     73\u001b[0m exp_list \u001b[38;5;241m=\u001b[39m [(\u001b[38;5;241m-\u001b[39m\u001b[38;5;241m1\u001b[39m, \u001b[38;5;124m'\u001b[39m\u001b[38;5;124mc\u001b[39m\u001b[38;5;124m'\u001b[39m), (\u001b[38;5;241m-\u001b[39m\u001b[38;5;241m1\u001b[39m, \u001b[38;5;124m'\u001b[39m\u001b[38;5;124mf\u001b[39m\u001b[38;5;124m'\u001b[39m), (\u001b[38;5;124m'\u001b[39m\u001b[38;5;124malice\u001b[39m\u001b[38;5;124m'\u001b[39m, \u001b[38;5;124m'\u001b[39m\u001b[38;5;124mb\u001b[39m\u001b[38;5;124m'\u001b[39m), (\u001b[38;5;124m'\u001b[39m\u001b[38;5;124mjohn\u001b[39m\u001b[38;5;124m'\u001b[39m, \u001b[38;5;124m'\u001b[39m\u001b[38;5;124me\u001b[39m\u001b[38;5;124m'\u001b[39m), (\u001b[38;5;124m'\u001b[39m\u001b[38;5;124mjohn\u001b[39m\u001b[38;5;124m'\u001b[39m, \u001b[38;5;124m'\u001b[39m\u001b[38;5;124ma\u001b[39m\u001b[38;5;124m'\u001b[39m), (\u001b[38;5;241m10.4\u001b[39m, \u001b[38;5;124m'\u001b[39m\u001b[38;5;124md\u001b[39m\u001b[38;5;124m'\u001b[39m), (\u001b[38;5;124m'\u001b[39m\u001b[38;5;124mTIM\u001b[39m\u001b[38;5;124m'\u001b[39m, \u001b[38;5;124m'\u001b[39m\u001b[38;5;124mg\u001b[39m\u001b[38;5;124m'\u001b[39m)]\n\u001b[0;32m     75\u001b[0m \u001b[38;5;28;01mfor\u001b[39;00m node \u001b[38;5;129;01min\u001b[39;00m temp_list:\n\u001b[1;32m---> 76\u001b[0m     \u001b[43mqueue\u001b[49m\u001b[38;5;241;43m.\u001b[39;49m\u001b[43mappend\u001b[49m\u001b[43m(\u001b[49m\u001b[43mnode\u001b[49m\u001b[43m)\u001b[49m\n\u001b[0;32m     78\u001b[0m \u001b[38;5;28mprint\u001b[39m(\u001b[38;5;124mf\u001b[39m\u001b[38;5;124m\"\u001b[39m\u001b[38;5;124mqueue: \u001b[39m\u001b[38;5;132;01m{\u001b[39;00mqueue\u001b[38;5;132;01m}\u001b[39;00m\u001b[38;5;124m\"\u001b[39m) \n\u001b[0;32m     79\u001b[0m \u001b[38;5;28mprint\u001b[39m(\u001b[38;5;124mf\u001b[39m\u001b[38;5;124m\"\u001b[39m\u001b[38;5;124mtemp_list: \u001b[39m\u001b[38;5;132;01m{\u001b[39;00mtemp_list\u001b[38;5;132;01m}\u001b[39;00m\u001b[38;5;124m\"\u001b[39m)\n",
      "File \u001b[1;32m~\\GTDev\\AI\\Proj0\\spring_cs6601_a0\\priority_queue.py:111\u001b[0m, in \u001b[0;36mPriorityQueue.append\u001b[1;34m(self, node)\u001b[0m\n\u001b[0;32m    109\u001b[0m \u001b[38;5;66;03m# TODO: finish this function!\u001b[39;00m\n\u001b[0;32m    110\u001b[0m \u001b[38;5;28mself\u001b[39m\u001b[38;5;241m.\u001b[39mqueue\u001b[38;5;241m.\u001b[39mappend((node, \u001b[38;5;28mself\u001b[39m\u001b[38;5;241m.\u001b[39mcount))\n\u001b[1;32m--> 111\u001b[0m \u001b[38;5;28;43mself\u001b[39;49m\u001b[38;5;241;43m.\u001b[39;49m\u001b[43mheapify_up\u001b[49m\u001b[43m(\u001b[49m\u001b[38;5;28;43mself\u001b[39;49m\u001b[38;5;241;43m.\u001b[39;49m\u001b[43msize\u001b[49m\u001b[43m(\u001b[49m\u001b[43m)\u001b[49m\u001b[43m \u001b[49m\u001b[38;5;241;43m-\u001b[39;49m\u001b[43m \u001b[49m\u001b[38;5;241;43m1\u001b[39;49m\u001b[43m)\u001b[49m\n\u001b[0;32m    112\u001b[0m \u001b[38;5;28mself\u001b[39m\u001b[38;5;241m.\u001b[39mcount \u001b[38;5;241m+\u001b[39m\u001b[38;5;241m=\u001b[39m \u001b[38;5;241m1\u001b[39m\n",
      "File \u001b[1;32m~\\GTDev\\AI\\Proj0\\spring_cs6601_a0\\priority_queue.py:127\u001b[0m, in \u001b[0;36mPriorityQueue.heapify_up\u001b[1;34m(self, index)\u001b[0m\n\u001b[0;32m    124\u001b[0m \u001b[38;5;28mprint\u001b[39m(\u001b[38;5;124mf\u001b[39m\u001b[38;5;124m\"\u001b[39m\u001b[38;5;124mqueue: \u001b[39m\u001b[38;5;132;01m{\u001b[39;00m\u001b[38;5;28mself\u001b[39m\u001b[38;5;241m.\u001b[39mqueue\u001b[38;5;132;01m}\u001b[39;00m\u001b[38;5;124m\"\u001b[39m)\n\u001b[0;32m    125\u001b[0m \u001b[38;5;28mprint\u001b[39m(\u001b[38;5;124mf\u001b[39m\u001b[38;5;124m\"\u001b[39m\u001b[38;5;124mparent_idx: \u001b[39m\u001b[38;5;132;01m{\u001b[39;00mparent_idx\u001b[38;5;132;01m}\u001b[39;00m\u001b[38;5;124m - parent_node: \u001b[39m\u001b[38;5;132;01m{\u001b[39;00m\u001b[38;5;28mself\u001b[39m\u001b[38;5;241m.\u001b[39mqueue[parent_idx]\u001b[38;5;132;01m}\u001b[39;00m\u001b[38;5;124m, index: \u001b[39m\u001b[38;5;132;01m{\u001b[39;00mindex\u001b[38;5;132;01m}\u001b[39;00m\u001b[38;5;124m - index_node: \u001b[39m\u001b[38;5;132;01m{\u001b[39;00m\u001b[38;5;28mself\u001b[39m\u001b[38;5;241m.\u001b[39mqueue[index]\u001b[38;5;132;01m}\u001b[39;00m\u001b[38;5;124m\"\u001b[39m)\n\u001b[1;32m--> 127\u001b[0m \u001b[38;5;28;01mif\u001b[39;00m index \u001b[38;5;241m>\u001b[39m \u001b[38;5;241m0\u001b[39m \u001b[38;5;129;01mand\u001b[39;00m \u001b[43m(\u001b[49m\u001b[38;5;28;43mself\u001b[39;49m\u001b[38;5;241;43m.\u001b[39;49m\u001b[43mqueue\u001b[49m\u001b[43m[\u001b[49m\u001b[43mindex\u001b[49m\u001b[43m]\u001b[49m\u001b[43m[\u001b[49m\u001b[38;5;241;43m0\u001b[39;49m\u001b[43m]\u001b[49m\u001b[43m[\u001b[49m\u001b[38;5;241;43m0\u001b[39;49m\u001b[43m]\u001b[49m\u001b[43m,\u001b[49m\u001b[43m \u001b[49m\u001b[38;5;28;43mself\u001b[39;49m\u001b[38;5;241;43m.\u001b[39;49m\u001b[43mqueue\u001b[49m\u001b[43m[\u001b[49m\u001b[43mindex\u001b[49m\u001b[43m]\u001b[49m\u001b[43m[\u001b[49m\u001b[38;5;241;43m1\u001b[39;49m\u001b[43m]\u001b[49m\u001b[43m)\u001b[49m\u001b[43m  \u001b[49m\u001b[38;5;241;43m<\u001b[39;49m\u001b[43m \u001b[49m\u001b[43m(\u001b[49m\u001b[38;5;28;43mself\u001b[39;49m\u001b[38;5;241;43m.\u001b[39;49m\u001b[43mqueue\u001b[49m\u001b[43m[\u001b[49m\u001b[43mparent_idx\u001b[49m\u001b[43m]\u001b[49m\u001b[43m[\u001b[49m\u001b[38;5;241;43m0\u001b[39;49m\u001b[43m]\u001b[49m\u001b[43m[\u001b[49m\u001b[38;5;241;43m0\u001b[39;49m\u001b[43m]\u001b[49m\u001b[43m,\u001b[49m\u001b[43m \u001b[49m\u001b[38;5;28;43mself\u001b[39;49m\u001b[38;5;241;43m.\u001b[39;49m\u001b[43mqueue\u001b[49m\u001b[43m[\u001b[49m\u001b[43mparent_idx\u001b[49m\u001b[43m]\u001b[49m\u001b[43m[\u001b[49m\u001b[38;5;241;43m1\u001b[39;49m\u001b[43m]\u001b[49m\u001b[43m)\u001b[49m:\n\u001b[0;32m    128\u001b[0m     \u001b[38;5;28mself\u001b[39m\u001b[38;5;241m.\u001b[39mqueue[index], \u001b[38;5;28mself\u001b[39m\u001b[38;5;241m.\u001b[39mqueue[parent_idx] \u001b[38;5;241m=\u001b[39m \u001b[38;5;28mself\u001b[39m\u001b[38;5;241m.\u001b[39mqueue[parent_idx], \u001b[38;5;28mself\u001b[39m\u001b[38;5;241m.\u001b[39mqueue[index]\n\u001b[0;32m    129\u001b[0m     \u001b[38;5;66;03m#print(f\"queue: {self.queue}\")\u001b[39;00m\n\u001b[0;32m    130\u001b[0m     \u001b[38;5;66;03m# index = parent_idx\u001b[39;00m\n\u001b[0;32m    131\u001b[0m     \u001b[38;5;66;03m# parent_idx = (index - 1) // 2\u001b[39;00m\n",
      "\u001b[1;31mTypeError\u001b[0m: '<' not supported between instances of 'int' and 'str'"
     ]
    }
   ],
   "source": [
    "# Local tests\n",
    "from priority_queue import PriorityQueue\n",
    "from utilities.localtests import TestPriorityQueue\n",
    "\n",
    "TestPriorityQueue(\"test_append_and_pop\").test_append_and_pop(PriorityQueue)\n",
    "TestPriorityQueue(\"test_fifo_property\").test_fifo_property(PriorityQueue)\n",
    "TestPriorityQueue(\"test_fifo_property\").test_fifo_property2(PriorityQueue)\n",
    "TestPriorityQueue(\"test_fifo_property\").test_fifo_property3(PriorityQueue)"
   ]
  },
  {
   "cell_type": "markdown",
   "metadata": {},
   "source": [
    "---\n",
    "\n",
    "# Contribute to the class"
   ]
  },
  {
   "cell_type": "markdown",
   "metadata": {},
   "source": [
    "If you find any typos, have some issues or suggestions on how to improve this or any future assignments please feel free to make a Edstem post about it."
   ]
  },
  {
   "cell_type": "markdown",
   "metadata": {},
   "source": [
    "---\n",
    "<!-- Hi there! -->"
   ]
  }
 ],
 "metadata": {
  "kernelspec": {
   "display_name": "Python 3 (ipykernel)",
   "language": "python",
   "name": "python3"
  },
  "language_info": {
   "codemirror_mode": {
    "name": "ipython",
    "version": 3
   },
   "file_extension": ".py",
   "mimetype": "text/x-python",
   "name": "python",
   "nbconvert_exporter": "python",
   "pygments_lexer": "ipython3",
   "version": "3.9.21"
  }
 },
 "nbformat": 4,
 "nbformat_minor": 4
}
